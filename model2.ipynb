{
  "nbformat": 4,
  "nbformat_minor": 0,
  "metadata": {
    "colab": {
      "provenance": []
    },
    "kernelspec": {
      "name": "python3",
      "display_name": "Python 3"
    },
    "language_info": {
      "name": "python"
    }
  },
  "cells": [
    {
      "cell_type": "code",
      "execution_count": 2,
      "metadata": {
        "colab": {
          "base_uri": "https://localhost:8080/"
        },
        "id": "_QkHSYvJ0lXA",
        "outputId": "1f79a493-4b1b-4323-d6e5-a77d1ed2d442"
      },
      "outputs": [
        {
          "output_type": "stream",
          "name": "stdout",
          "text": [
            "Mounted at /content/drive\n"
          ]
        }
      ],
      "source": [
        "import numpy as np\n",
        "import pandas as pd\n",
        "import io\n",
        "import random\n",
        "import itertools\n",
        "import matplotlib.pyplot as plt\n",
        "import time\n",
        "from google.colab import drive\n",
        "drive.mount('/content/drive')"
      ]
    },
    {
      "cell_type": "code",
      "source": [
        "## Read weights and costs \n",
        "\n",
        "data_name = 'RGP100'\n",
        "weights = pd.read_excel('/content/drive/My Drive/sc1-data/' + data_name + '_flow.xlsx', header=None)\n",
        "costs = pd.read_excel('/content/drive/My Drive/sc1-data/' + data_name + '_cost.xlsx', header=None)\n",
        "\n",
        "weights.index = range(1, len(weights.index)+1)\n",
        "weights.columns = range(1, len(weights.columns)+1)\n",
        "costs.index = range(1, len(costs.index)+1)\n",
        "costs.columns = range(1, len(costs.columns)+1)\n",
        "\n",
        "#CAB25:  n = 25,  p = 3,5\n",
        "#TR55:   n = 55,  p = 3,5\n",
        "#TR81:   n = 81,  p = 5,7\n",
        "#RGP100: n = 100, p = 7,10\n",
        "\n",
        "n = 100\n",
        "p = 7"
      ],
      "metadata": {
        "id": "S-izL02F3Ieu"
      },
      "execution_count": 25,
      "outputs": []
    },
    {
      "cell_type": "code",
      "source": [
        "## Generate random candidate solution\n",
        "\n",
        "def generate_candidate(n,p):\n",
        "\n",
        "  hubs = random.sample(range(1, n+1), p) \n",
        "  solution = [ni if ni in hubs else random.choice(hubs) for ni in range(1,n+1)]\n",
        "\n",
        "  return solution"
      ],
      "metadata": {
        "id": "1BkRqoapDNFl"
      },
      "execution_count": 4,
      "outputs": []
    },
    {
      "cell_type": "code",
      "source": [
        "## Generate discrete population of candidate solutions\n",
        "\n",
        "def generate_population(n,p,size):\n",
        "  \n",
        "  pop = []\n",
        "\n",
        "  for i in range(size):\n",
        "    pop.append(generate_candidate(n,p))\n",
        "\n",
        "  return pop\n"
      ],
      "metadata": {
        "id": "Pm0uR1q49Xth"
      },
      "execution_count": 5,
      "outputs": []
    },
    {
      "cell_type": "code",
      "source": [
        "## Calculate net cost for flow between hubs\n",
        "\n",
        "def total_flow_cost(flow_sum):\n",
        "\n",
        "  slope = 0\n",
        "  intercept = 0\n",
        "  check = flow_sum/1000\n",
        "\n",
        "  if   0<=check<50:     slope = 1.0; intercept = 0\n",
        "  elif 50<=check<100:   slope = 0.8; intercept = 10000\n",
        "  elif 100<=check<200:  slope = 0.6; intercept = 30000\n",
        "  elif 200<=check:      slope = 0.4; intercept = 70000\n",
        "\n",
        "  return slope*flow_sum + intercept"
      ],
      "metadata": {
        "id": "T0Szu5NZKAX5"
      },
      "execution_count": 6,
      "outputs": []
    },
    {
      "cell_type": "code",
      "source": [
        "## Model the hubs-and-nodes network as a dictionary\n",
        "\n",
        "def network(candidate):\n",
        "\n",
        "  hubs = set(candidate)\n",
        "  candidate = np.array(candidate)\n",
        "  network = {h:list(np.where(candidate == h)[0]+1) for h in hubs}\n",
        "\n",
        "  return network"
      ],
      "metadata": {
        "id": "NyoRvhJw4PK6"
      },
      "execution_count": 7,
      "outputs": []
    },
    {
      "cell_type": "code",
      "source": [
        "def network_flow(network):\n",
        "\n",
        "  network_flow = {}\n",
        "\n",
        "  for k in network:\n",
        "    for m in network:\n",
        "\n",
        "      if(k==m): network_flow[(k,m)]=0\n",
        "      else:\n",
        "        nodes_at_k = network[k]\n",
        "        nodes_at_m = network[m]\n",
        "        nodes_pairs = list(itertools.product(nodes_at_k, nodes_at_m))\n",
        "        \n",
        "        flow_sum = sum([weights[kk][mm] for (kk,mm) in nodes_pairs])\n",
        "        flow_cost = total_flow_cost(flow_sum)\n",
        "        network_flow[(k,m)] = flow_cost*costs[k][m]\n",
        "\n",
        "  return network_flow"
      ],
      "metadata": {
        "id": "sSbsnr5q9Jea"
      },
      "execution_count": 8,
      "outputs": []
    },
    {
      "cell_type": "code",
      "source": [
        "## Calculate total cost (fitness) of a candidate\n",
        "\n",
        "def total_cost(candidate):\n",
        "\n",
        "  total_cost = 0\n",
        "\n",
        "  for i in range(len(candidate)):\n",
        "    for j in range(len(candidate)):\n",
        "      node_i = i+1\n",
        "      node_j = j+1\n",
        "      hub_k = candidate[i]\n",
        "      hub_m = candidate[j]\n",
        "\n",
        "      total_cost += weights[node_i][node_j]*(costs[node_i][hub_k] + costs[hub_m][node_j])\n",
        "\n",
        "  hub_network = network(candidate)\n",
        "  for k in hub_network:\n",
        "    for m in hub_network:\n",
        "\n",
        "      if(k!=m): \n",
        "        nodes_at_k = hub_network[k]\n",
        "        nodes_at_m = hub_network[m]\n",
        "        nodes_pairs = list(itertools.product(nodes_at_k, nodes_at_m))\n",
        "        \n",
        "        flow_sum = sum([weights[kk][mm] for (kk,mm) in nodes_pairs])\n",
        "        flow_cost = total_flow_cost(flow_sum)\n",
        "\n",
        "        total_cost += flow_cost*costs[k][m]\n",
        "\n",
        "  return total_cost"
      ],
      "metadata": {
        "id": "PZUazIXZBdSR"
      },
      "execution_count": 9,
      "outputs": []
    },
    {
      "cell_type": "code",
      "source": [
        "## Tournament selection\n",
        "\n",
        "def selection(population, fitnesses, T_size):\n",
        "\n",
        "  tournament = random.sample(range(len(population)), T_size)\n",
        "\n",
        "  winner_ind = tournament[0]\n",
        "  for t_ind in tournament[1:]:\n",
        "    if fitnesses[t_ind] > fitnesses[winner_ind]:\n",
        "      winner = t_ind\n",
        "\n",
        "  #return the winning candidate\n",
        "  return population[winner_ind]"
      ],
      "metadata": {
        "id": "xMn977CxIMYz"
      },
      "execution_count": 10,
      "outputs": []
    },
    {
      "cell_type": "code",
      "source": [
        "## Crossover 3\n",
        "\n",
        "def crossover3(parent1, parent2, p):\n",
        "\n",
        "  n = len(parent1)\n",
        "  parents = [parent1,parent2]\n",
        "  sets = set(parent1).union(set(parent2))\n",
        "  children = [[None]*n,[None]*n]\n",
        "\n",
        "  for child in children:\n",
        "\n",
        "    #allocating hubs\n",
        "    hubs = random.sample(sets, p)\n",
        "    for h in hubs:\n",
        "      child[h-1] = h\n",
        "    \n",
        "    #allocating nodes to hubs\n",
        "    for i in range(n):\n",
        "      if (child[i]==None):\n",
        "\n",
        "        ind = random.randint(0, 1)\n",
        "        node1 = parents[ind][i]\n",
        "        node2 = parents[ind^1][i]\n",
        "\n",
        "        if (node1 in set(child)):\n",
        "          child[i] = node1\n",
        "        elif (node2 in set(child)):\n",
        "          child[i] = node2\n",
        "\n",
        "    #repairing unallocated nodes\n",
        "    for i in range(n):\n",
        "      if (child[i]==None):\n",
        "        hubs = set(child)\n",
        "        hubs.remove(None)\n",
        "        child[i] = random.choice(tuple(hubs))\n",
        "      \n",
        "\n",
        "  return children[0], children[1]"
      ],
      "metadata": {
        "id": "fXT37R458U4o"
      },
      "execution_count": 11,
      "outputs": []
    },
    {
      "cell_type": "code",
      "source": [
        "## Mutation\n",
        "\n",
        "def mutation(candidate, mr):\n",
        "\n",
        "  hubs = set(candidate)\n",
        "\n",
        "  for i in range(len(candidate)):\n",
        "    hub_i = candidate[i]\n",
        "    node_i = i+1\n",
        "\n",
        "    if node_i != hub_i:\n",
        "      if random.random() < mr:\n",
        "        hubs.remove(hub_i)\n",
        "        candidate[i] = random.choice(tuple(hubs))\n",
        "        hubs.add(hub_i)\n",
        "\n",
        "  return candidate"
      ],
      "metadata": {
        "id": "OUwaFoQzYFx3"
      },
      "execution_count": 13,
      "outputs": []
    },
    {
      "cell_type": "code",
      "source": [
        "## Elitism\n",
        "\n",
        "def elitism(population,fitnesses,num_elite):\n",
        "\n",
        "  zipped = zip(population,fitnesses)\n",
        "  ranked = sorted(zipped, key=lambda x: x[1])\n",
        "  candidates = [c for (c,_) in ranked]\n",
        "  elites = candidates[:num_elite]\n",
        "  pop = [c for c in population if c not in elites]\n",
        "  #print(population)\n",
        "  #print(elites)\n",
        "  #pop = set(population) - set(elites)\n",
        "\n",
        "  return elites, pop"
      ],
      "metadata": {
        "id": "SPC2fEXQsB4X"
      },
      "execution_count": 15,
      "outputs": []
    },
    {
      "cell_type": "code",
      "source": [
        "## PROGRAM RUN\n",
        "\n",
        "def model_2(n,p,time_steps,pop_size,mr,elite_size,T_size):\n",
        "\n",
        "  #generate initial population\n",
        "  population = generate_population(n,p,pop_size)\n",
        "  fitnesses = []\n",
        "\n",
        "  best_fs = []\n",
        "  best_cs = []\n",
        "\n",
        "  for t in range(time_steps):\n",
        "\n",
        "    #termination criteria\n",
        "    if len(best_fs)>=30:\n",
        "      if sum(np.diff(best_fs[-30:])) == 0:\n",
        "        break\n",
        "\n",
        "    #fitness evaluation\n",
        "    fitnesses = [total_cost(candidate) for candidate in population]\n",
        "    best_fitness = min(fitnesses)\n",
        "    best_candidate = population[np.argmin(fitnesses)]\n",
        "    best_fs.append(best_fitness)\n",
        "    best_cs.append(best_candidate)\n",
        "\n",
        "    if len(best_fs)%15 == 0 and elite_size>=4:\n",
        "      if sum(np.diff(best_fs[-15:])) == 0:\n",
        "        elite_size -= int(elite_size*0.2)\n",
        "\n",
        "    #separating elites\n",
        "    elites, pop = elitism(population,fitnesses,elite_size)\n",
        "    elite_parents = random.sample(elites, elite_size//2)\n",
        "\n",
        "    #selection\n",
        "    selected =  elite_parents + [selection(pop, fitnesses, T_size=T_size) for _ in range(pop_size-len(elites)-len(elite_parents))]\n",
        "    new_population = []\n",
        "\n",
        "    #crossover and mutation\n",
        "    for i in range(0, pop_size-len(elites), 2):\n",
        "      \n",
        "      if len(selected)<2:\n",
        "        for i in range(2-len(selected)):\n",
        "          selected = selected.append(mutation(selected[0],mr))\n",
        "          print(selected)\n",
        "      \n",
        "      randoms = random.sample(selected, 2)\n",
        "      selected.remove(randoms[0])\n",
        "      selected.remove(randoms[1])\n",
        "      child1, child2 = crossover3(randoms[0],randoms[1],p)\n",
        "      child1 = mutation(child1,mr)\n",
        "      child2 = mutation(child2,mr)\n",
        "\n",
        "      new_population.append(child1)\n",
        "      new_population.append(child2)\n",
        "\n",
        "    #update population\n",
        "    population = elites + new_population\n",
        "\n",
        "    #print(\"Iteration {}: Best Fitness = {}, Best Individual = {}\".format(t, best_fitness, best_candidate))\n",
        "\n",
        "  return best_fs, best_cs"
      ],
      "metadata": {
        "id": "VZ9AKCUtdcFb"
      },
      "execution_count": 17,
      "outputs": []
    },
    {
      "cell_type": "code",
      "source": [
        "best_fs, best_cs = model_2(n=10,p=3,time_steps=100,pop_size=150,mr=0.8,elite_size=10,T_size=20)\n",
        "#print(best_fs)\n",
        "#print(best_cs)"
      ],
      "metadata": {
        "colab": {
          "base_uri": "https://localhost:8080/"
        },
        "collapsed": true,
        "id": "f5XsMVMTNCsZ",
        "outputId": "1b3a0860-af0d-451c-d1c1-7e23193c8935"
      },
      "execution_count": 122,
      "outputs": []
    },
    {
      "cell_type": "code",
      "source": [
        "## Experiment with Mutation Rates\n",
        "\n",
        "best_fitnesses_mrs = []\n",
        "best_candidates_mrs = []\n",
        "mrs = np.arange(0.1,1,0.1)\n",
        "\n",
        "for mr in mrs:\n",
        "\n",
        "  best_fs, best_cs = model_2(n=10,p=3,time_steps=50,pop_size=100,mr=mr,elite_size=10,T_size=20)\n",
        "  best_fitnesses_mrs.append(min(best_fs))\n",
        "  best_candidates_mrs.append(best_cs[np.argmin(best_fs)])\n",
        "\n",
        "  print(\"Mutation Rate {}: Best Fitness = {}, Best Individual = {}\".format(mr, best_fitnesses_mrs[-1], best_candidates_mrs[-1]))\n"
      ],
      "metadata": {
        "id": "ArJOcoEFepum",
        "collapsed": true
      },
      "execution_count": null,
      "outputs": []
    },
    {
      "cell_type": "code",
      "source": [
        "min_fs = min(best_fitnesses_mrs)\n",
        "min_fs_mr = mrs[np.argmin(best_fitnesses_mrs)]\n",
        "\n",
        "plt.plot(mrs, best_fitnesses_mrs)\n",
        "plt.scatter(min_fs_mr, min_fs, color = 'r')\n",
        "plt.ticklabel_format(style='plain')\n",
        "plt.xlabel('Mutation Rates')\n",
        "plt.ylabel('Best Fitness Values')\n",
        "plt.title('Mutation Rates vs Best Fitness')"
      ],
      "metadata": {
        "id": "9ChPDUOyQC2K"
      },
      "execution_count": null,
      "outputs": []
    },
    {
      "cell_type": "code",
      "source": [
        "## Experiment with Time Steps\n",
        "\n",
        "best_fitnesses_ts = []\n",
        "best_candidates_ts = []\n",
        "ts = np.arange(50,350,50)\n",
        "\n",
        "for t in ts:\n",
        "\n",
        "  best_fs, best_cs = model_2(n=10,p=3,time_steps=t,pop_size=100,mr=0.8,elite_size=10,T_size=20)\n",
        "  best_fitnesses_ts.append(min(best_fs))\n",
        "  best_candidates_ts.append(best_cs[np.argmin(best_fs)])\n",
        "\n",
        "  print(\"Time Steps {}: Best Fitness = {}, Best Individual = {}\".format(t, best_fitnesses_ts[-1], best_candidates_ts[-1]))\n"
      ],
      "metadata": {
        "id": "zXywHwTAfpq6"
      },
      "execution_count": null,
      "outputs": []
    },
    {
      "cell_type": "code",
      "source": [
        "min_fs = min(best_fitnesses_ts)\n",
        "min_fs_ts = ts[np.argmin(best_fitnesses_ts)]\n",
        "\n",
        "plt.plot(ts, best_fitnesses_ts)\n",
        "plt.scatter(min_fs_ts, min_fs, color = 'r')\n",
        "plt.ticklabel_format(style='plain')\n",
        "plt.xlabel('Time Steps')\n",
        "plt.ylabel('Best Fitness Values')\n",
        "plt.title('Time Steps vs Best Fitness')"
      ],
      "metadata": {
        "id": "xmnhHK_EoIwZ"
      },
      "execution_count": null,
      "outputs": []
    },
    {
      "cell_type": "code",
      "source": [
        "## Experiment with Population Size\n",
        "\n",
        "best_fitnesses_pop = []\n",
        "best_candidates_pop = []\n",
        "pops = np.arange(50,350,50)\n",
        "\n",
        "for pop in pops:\n",
        "\n",
        "  best_fs, best_cs = model_2(n=10,p=3,time_steps=50,pop_size=pop,mr=0.8,elite_size=10,T_size=20)\n",
        "  best_fitnesses_pop.append(min(best_fs))\n",
        "  best_candidates_pop.append(best_cs[np.argmin(best_fs)])\n",
        "\n",
        "  print(\"Population Size {}: Best Fitness = {}, Best Individual = {}\".format(pop, best_fitnesses_pop[-1], best_candidates_pop[-1]))"
      ],
      "metadata": {
        "id": "xrPbeZKvqP0d"
      },
      "execution_count": null,
      "outputs": []
    },
    {
      "cell_type": "code",
      "source": [
        "min_fs = min(best_fitnesses_pop)\n",
        "min_fs_pop = ts[np.argmin(best_fitnesses_pop)]\n",
        "\n",
        "plt.plot(pops, best_fitnesses_pop)\n",
        "plt.scatter(min_fs_pop, min_fs, color = 'r')\n",
        "plt.ticklabel_format(style='plain')\n",
        "plt.xlabel('Population Size')\n",
        "plt.ylabel('Best Fitness Values')\n",
        "plt.title('Population Size vs Best Fitness')"
      ],
      "metadata": {
        "id": "dM1DuKiau9Mt"
      },
      "execution_count": null,
      "outputs": []
    },
    {
      "cell_type": "code",
      "source": [
        "## Model 2 FINAL RUN\n",
        "## change problem dataset\n",
        "\n",
        "best_fitnesses_m2 = []\n",
        "best_candidates_m2 = []\n",
        "time_m2 = []\n",
        "compare2 = []\n",
        "\n",
        "for i in range(6):\n",
        "\n",
        "  best_fs, best_cs = model_2(n=100,p=10,time_steps=100,pop_size=150,mr=0.8,elite_size=10,T_size=20)\n",
        "\n",
        "  if i==1: \n",
        "    compare2.append(best_fs)\n",
        "    compare2.append(best_cs)\n",
        "\n",
        "  best_fitnesses_m2.append(min(best_fs))\n",
        "  best_candidates_m2.append(best_cs[np.argmin(best_fs)])\n",
        "  time_m2.append(len(best_fs))\n",
        "\n",
        "  print(\"Iteration {}: Best Fitness = {}, Best Individual = {}, Time Step = {}\".format(i+1, best_fitnesses_m2[-1], best_candidates_m2[-1], time_m2[-1]))"
      ],
      "metadata": {
        "id": "kiwS6QP-vcXw"
      },
      "execution_count": null,
      "outputs": []
    },
    {
      "cell_type": "code",
      "source": [
        "min_fs = min(best_fitnesses_m2)\n",
        "runs = np.arange(1,11)\n",
        "min_run = runs[np.argmin(best_fitnesses_m2)]\n",
        "avg_fs = np.mean(best_fitnesses_m2)\n",
        "best_cs = best_candidates_m2[np.argmin(best_fitnesses_m2)]\n",
        "avg_time = np.mean(time_m2)\n",
        "\n",
        "print('Best Solution: {}'.format(str(best_cs)))\n",
        "print('Best NC: {}'.format(min_fs))\n",
        "print('Avg NC: {}'.format(avg_fs))\n",
        "print('Avg Time: {}'.format(avg_time))\n",
        "\n",
        "plt.plot(runs, best_fitnesses_m2)\n",
        "plt.scatter(min_run, min_fs, color = 'r', label = 'Best Fitness')\n",
        "plt.axhline(y=avg_fs, color='y', linestyle='--', label = 'Avg Fitness')\n",
        "plt.ticklabel_format(style='plain')\n",
        "plt.xticks(runs)\n",
        "plt.legend()\n",
        "plt.xlabel('Runs')\n",
        "plt.ylabel('Best Fitness Values')\n",
        "plt.title('Best Fitness in Each Run')"
      ],
      "metadata": {
        "colab": {
          "base_uri": "https://localhost:8080/",
          "height": 159
        },
        "id": "MEa1sDwd_8iI",
        "outputId": "5ec8c6cc-ff0f-4b8a-89b9-9a44c722ef10"
      },
      "execution_count": 27,
      "outputs": [
        {
          "output_type": "stream",
          "name": "stdout",
          "text": [
            "Best Solution: [66, 38, 73, 14, 73, 14, 66, 90, 9, 10, 73, 38, 38, 14, 14, 90, 14, 10, 9, 66, 9, 10, 90, 73, 10, 38, 73, 10, 9, 66, 10, 73, 66, 9, 14, 90, 14, 38, 66, 14, 73, 38, 9, 9, 90, 66, 9, 73, 9, 9, 90, 14, 14, 38, 14, 9, 9, 73, 73, 90, 14, 10, 73, 9, 9, 66, 66, 66, 9, 14, 73, 66, 73, 66, 90, 14, 66, 38, 9, 38, 9, 73, 90, 9, 90, 90, 66, 38, 14, 90, 10, 38, 9, 73, 14, 14, 73, 9, 14, 14]\n",
            "Best NC: 156953304551.66153\n",
            "Avg NC: 157947958113.36862\n",
            "Avg Time: 45.5\n"
          ]
        },
        {
          "output_type": "execute_result",
          "data": {
            "text/plain": [],
            "application/vnd.google.colaboratory.intrinsic+json": {
              "type": "string"
            }
          },
          "metadata": {},
          "execution_count": 27
        }
      ]
    },
    {
      "cell_type": "code",
      "source": [
        "tr55_5_m1_fitnesses = []\n",
        "tr55_5_m1_candidates = []\n",
        "best_m1 = min(tr55_5_m1_fitnesses)\n",
        "#candidate_m1 = tr55_5_m1_candidates[np.argmin(tr55_5_m1_fitnesses)]\n",
        "m1steps = range(len(tr55_5_m1_fitnesses))\n",
        "\n",
        "tr55_5_m2_fitnesses = []\n",
        "tr55_5_m2_candidates = []\n",
        "best_m2 = min(tr55_5_m2_fitnesses)\n",
        "#candidate_m2 = tr55_5_m2_candidates[np.argmin(tr55_5_m2_fitnesses)]\n",
        "m2steps = range(len(tr55_5_m2_fitnesses))\n",
        "\n",
        "plt.plot(range(len(tr55_5_m1_fitnesses)), tr55_5_m1_fitnesses, color='blue', label = 'Model 1')\n",
        "plt.plot(range(len(tr55_5_m2_fitnesses)), tr55_5_m2_fitnesses, color='green', label = 'Model 2')\n",
        "plt.scatter(tr55_5_m1_fitnesses.index(best_m1), best_m1, color = 'r')\n",
        "plt.scatter(tr55_5_m2_fitnesses.index(best_m2), best_m2, color = 'r')\n",
        "plt.ticklabel_format(style='plain')\n",
        "plt.xticks(np.arange(0,110,10))\n",
        "plt.title('Comparision of Model 1 vs Model 2 on TR55 p=5')\n",
        "plt.xlabel('Time Steps')\n",
        "plt.ylabel('Best Fitness Value')\n",
        "plt.legend()\n",
        "plt.show()"
      ],
      "metadata": {
        "colab": {
          "base_uri": "https://localhost:8080/",
          "height": 295
        },
        "id": "bkkfM-t2vBF-",
        "outputId": "090e7320-0f8e-4313-86d3-f94e1ecd9a79"
      },
      "execution_count": 29,
      "outputs": [
        {
          "output_type": "display_data",
          "data": {
            "text/plain": [
              "<Figure size 432x288 with 1 Axes>"
            ],
            "image/png": "[encoded data removed]"
          },
          "metadata": {
            "needs_background": "light"
          }
        }
      ]
    }
  ]
}
