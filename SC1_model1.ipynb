{
  "nbformat": 4,
  "nbformat_minor": 0,
  "metadata": {
    "colab": {
      "provenance": []
    },
    "kernelspec": {
      "name": "python3",
      "display_name": "Python 3"
    },
    "language_info": {
      "name": "python"
    }
  },
  "cells": [
    {
      "cell_type": "code",
      "execution_count": 1,
      "metadata": {
        "colab": {
          "base_uri": "https://localhost:8080/"
        },
        "id": "_QkHSYvJ0lXA",
        "outputId": "746cc14b-3456-4553-92b7-540c88f0faa2"
      },
      "outputs": [
        {
          "output_type": "stream",
          "name": "stdout",
          "text": [
            "Mounted at /content/drive\n"
          ]
        }
      ],
      "source": [
        "import numpy as np\n",
        "import pandas as pd\n",
        "import io\n",
        "import random\n",
        "import itertools\n",
        "import matplotlib.pyplot as plt\n",
        "import time\n",
        "from google.colab import drive\n",
        "drive.mount('/content/drive')"
      ]
    },
    {
      "cell_type": "code",
      "source": [
        "## Read weights and costs \n",
        "\n",
        "data_name = 'RGP100'\n",
        "weights = pd.read_excel('/content/drive/My Drive/sc1-data/' + data_name + '_flow.xlsx', header=None)\n",
        "costs = pd.read_excel('/content/drive/My Drive/sc1-data/' + data_name + '_cost.xlsx', header=None)\n",
        "\n",
        "weights.index = range(1, len(weights.index)+1)\n",
        "weights.columns = range(1, len(weights.columns)+1)\n",
        "costs.index = range(1, len(costs.index)+1)\n",
        "costs.columns = range(1, len(costs.columns)+1)\n",
        "\n",
        "#CAB25:  n = 25,  p = 3,5\n",
        "#TR55:   n = 55,  p = 3,5\n",
        "#TR81:   n = 81,  p = 5,7\n",
        "#RGP100: n = 100, p = 7,10\n",
        "\n",
        "n = 100\n",
        "p = 7"
      ],
      "metadata": {
        "id": "S-izL02F3Ieu"
      },
      "execution_count": 33,
      "outputs": []
    },
    {
      "cell_type": "code",
      "source": [
        "## Generate random candidate solution\n",
        "\n",
        "def generate_candidate(n,p):\n",
        "\n",
        "  hubs = random.sample(range(1, n+1), p) \n",
        "  solution = [ni if ni in hubs else random.choice(hubs) for ni in range(1,n+1)]\n",
        "\n",
        "  return solution"
      ],
      "metadata": {
        "id": "1BkRqoapDNFl"
      },
      "execution_count": 3,
      "outputs": []
    },
    {
      "cell_type": "code",
      "source": [
        "## Generate discrete population of candidate solutions\n",
        "\n",
        "def generate_population(n,p,size):\n",
        "  \n",
        "  pop = []\n",
        "\n",
        "  for i in range(size):\n",
        "    pop.append(generate_candidate(n,p))\n",
        "\n",
        "  return pop\n"
      ],
      "metadata": {
        "id": "Pm0uR1q49Xth"
      },
      "execution_count": 4,
      "outputs": []
    },
    {
      "cell_type": "code",
      "source": [
        "## Calculate net cost for flow between hubs\n",
        "\n",
        "def total_flow_cost(flow_sum):\n",
        "\n",
        "  slope = 0\n",
        "  intercept = 0\n",
        "  check = flow_sum/1000\n",
        "\n",
        "  if   0<=check<50:     slope = 1.0; intercept = 0\n",
        "  elif 50<=check<100:   slope = 0.8; intercept = 10000\n",
        "  elif 100<=check<200:  slope = 0.6; intercept = 30000\n",
        "  elif 200<=check:      slope = 0.4; intercept = 70000\n",
        "\n",
        "  return slope*flow_sum + intercept"
      ],
      "metadata": {
        "id": "T0Szu5NZKAX5"
      },
      "execution_count": 5,
      "outputs": []
    },
    {
      "cell_type": "code",
      "source": [
        "## Model the hubs-and-nodes network as a dictionary\n",
        "\n",
        "def network(candidate):\n",
        "\n",
        "  hubs = set(candidate)\n",
        "  candidate = np.array(candidate)\n",
        "  network = {h:list(np.where(candidate == h)[0]+1) for h in hubs}\n",
        "\n",
        "  return network"
      ],
      "metadata": {
        "id": "NyoRvhJw4PK6"
      },
      "execution_count": 6,
      "outputs": []
    },
    {
      "cell_type": "code",
      "source": [
        "## Calculate total cost (fitness) of a candidate\n",
        "\n",
        "def total_cost(candidate):\n",
        "\n",
        "  total_cost = 0\n",
        "\n",
        "  #collection and distribution costs\n",
        "  for i in range(len(candidate)):\n",
        "    for j in range(len(candidate)):\n",
        "      node_i = i+1\n",
        "      node_j = j+1\n",
        "      hub_k = candidate[i]\n",
        "      hub_m = candidate[j]\n",
        "\n",
        "      total_cost += weights[node_i][node_j]*(costs[node_i][hub_k] + costs[hub_m][node_j])\n",
        "\n",
        "  #transfer costs\n",
        "  hub_network = network(candidate)\n",
        "  for k in hub_network:\n",
        "    for m in hub_network:\n",
        "\n",
        "      if(k!=m): \n",
        "        nodes_at_k = hub_network[k]\n",
        "        nodes_at_m = hub_network[m]\n",
        "        nodes_pairs = list(itertools.product(nodes_at_k, nodes_at_m))\n",
        "        \n",
        "        flow_sum = sum([weights[kk][mm] for (kk,mm) in nodes_pairs])\n",
        "        flow_cost = total_flow_cost(flow_sum)\n",
        "\n",
        "        total_cost += flow_cost*costs[k][m]\n",
        "\n",
        "  return total_cost"
      ],
      "metadata": {
        "id": "PZUazIXZBdSR"
      },
      "execution_count": 8,
      "outputs": []
    },
    {
      "cell_type": "code",
      "source": [
        "## Tournament selection\n",
        "\n",
        "def selection(population, fitnesses, T_size):\n",
        "\n",
        "  tournament = random.sample(range(len(population)), T_size)\n",
        "\n",
        "  winner_ind = tournament[0]\n",
        "  for t_ind in tournament[1:]:\n",
        "    if fitnesses[t_ind] > fitnesses[winner_ind]:\n",
        "      winner = t_ind\n",
        "\n",
        "  #return the winning candidate\n",
        "  return population[winner_ind]"
      ],
      "metadata": {
        "id": "xMn977CxIMYz"
      },
      "execution_count": 9,
      "outputs": []
    },
    {
      "cell_type": "code",
      "source": [
        "## Crossover 1\n",
        "\n",
        "def crossover1(parent1, parent2):\n",
        "\n",
        "  parents = [parent1,parent2]\n",
        "  child1 = []\n",
        "  child2 = []\n",
        "\n",
        "  for i in range(len(parents[0])):\n",
        "    ind = random.randint(0, 1)\n",
        "    child1.append(parents[ind][i])\n",
        "    child2.append(parents[ind^1][i])\n",
        "\n",
        "  return child1,child2"
      ],
      "metadata": {
        "id": "YHEBm_Ac7sQw"
      },
      "execution_count": 10,
      "outputs": []
    },
    {
      "cell_type": "code",
      "source": [
        "## Crossover 3\n",
        "\n",
        "def crossover3(parent1, parent2, p):\n",
        "\n",
        "  n = len(parent1)\n",
        "  parents = [parent1,parent2]\n",
        "  sets = set(parent1).union(set(parent2))\n",
        "  children = [[None]*n,[None]*n]\n",
        "\n",
        "  for child in children:\n",
        "\n",
        "    #allocating hubs\n",
        "    hubs = random.sample(sets, p)\n",
        "    for h in hubs:\n",
        "      child[h-1] = h\n",
        "    \n",
        "    #allocating nodes to hubs\n",
        "    for i in range(n):\n",
        "      if (child[i]==None):\n",
        "\n",
        "        ind = random.randint(0, 1)\n",
        "        node1 = parents[ind][i]\n",
        "        node2 = parents[ind^1][i]\n",
        "\n",
        "        if (node1 in set(child)):\n",
        "          child[i] = node1\n",
        "        elif (node2 in set(child)):\n",
        "          child[i] = node2\n",
        "\n",
        "    #repairing unallocated nodes\n",
        "    for i in range(n):\n",
        "      if (child[i]==None):\n",
        "        hubs = set(child)\n",
        "        hubs.remove(None)\n",
        "        child[i] = random.choice(tuple(hubs))\n",
        "      \n",
        "\n",
        "  return children[0], children[1]"
      ],
      "metadata": {
        "id": "fXT37R458U4o"
      },
      "execution_count": 12,
      "outputs": []
    },
    {
      "cell_type": "code",
      "source": [
        "## Mutation\n",
        "\n",
        "def mutation(candidate, mr):\n",
        "\n",
        "  hubs = set(candidate)\n",
        "\n",
        "  for i in range(len(candidate)):\n",
        "    hub_i = candidate[i]\n",
        "    node_i = i+1\n",
        "\n",
        "    if node_i != hub_i:\n",
        "      if random.random() < mr:\n",
        "        hubs.remove(hub_i)\n",
        "        candidate[i] = random.choice(tuple(hubs))\n",
        "        hubs.add(hub_i)\n",
        "\n",
        "  return candidate"
      ],
      "metadata": {
        "id": "OUwaFoQzYFx3"
      },
      "execution_count": 14,
      "outputs": []
    },
    {
      "cell_type": "code",
      "source": [
        "## PROGRAM RUN\n",
        "\n",
        "def model_1(n,p,time_steps,pop_size,mr):\n",
        "\n",
        "  #generate initial population\n",
        "  population = generate_population(n,p,pop_size)\n",
        "  fitnesses = []\n",
        "\n",
        "  best_fs = []\n",
        "  best_cs = []\n",
        "\n",
        "  for t in range(time_steps):\n",
        "\n",
        "    #fitness evaluation\n",
        "    fitnesses = [total_cost(candidate) for candidate in population]\n",
        "    best_fitness = min(fitnesses)\n",
        "    best_candidate = population[np.argmin(fitnesses)]\n",
        "    best_fs.append(best_fitness)\n",
        "    best_cs.append(best_candidate)\n",
        "\n",
        "    #selection\n",
        "    selected = [selection(population, fitnesses, T_size=10) for _ in range(pop_size)]\n",
        "\n",
        "    new_population = []\n",
        "\n",
        "    #crossover and mutation\n",
        "    for i in range(0, pop_size, 2):\n",
        "\n",
        "      randoms = random.sample(selected, 2)\n",
        "      selected.remove(randoms[0])\n",
        "      selected.remove(randoms[1])\n",
        "      child1, child2 = crossover3(randoms[0],randoms[1],p)\n",
        "      child1 = mutation(child1,mr)\n",
        "      child2 = mutation(child2,mr)\n",
        "\n",
        "      new_population.append(child1)\n",
        "      new_population.append(child2)\n",
        "\n",
        "    #update population\n",
        "    population = new_population\n",
        "\n",
        "    #print(\"Iteration {}: Best Fitness = {}, Best Individual = {}\".format(t, best_fitness, best_candidate))\n",
        "\n",
        "  return best_fs, best_cs"
      ],
      "metadata": {
        "id": "VZ9AKCUtdcFb"
      },
      "execution_count": 15,
      "outputs": []
    },
    {
      "cell_type": "code",
      "source": [
        "best_fs, best_cs = model_1(n=10,p=3,time_steps=50,pop_size=100,mr=0.4)\n",
        "print(best_fs)\n",
        "print(best_cs)"
      ],
      "metadata": {
        "colab": {
          "base_uri": "https://localhost:8080/"
        },
        "collapsed": true,
        "id": "f5XsMVMTNCsZ",
        "outputId": "02cd24ca-cc48-4b96-e67b-f1c2506a111b"
      },
      "execution_count": null,
      "outputs": [
        {
          "output_type": "stream",
          "name": "stdout",
          "text": [
            "Iteration 0: Best Fitness = 849592073.2330399, Best Individual = [4, 9, 3, 4, 4, 9, 4, 4, 9, 4]\n",
            "Iteration 1: Best Fitness = 932992793.9081203, Best Individual = [5, 6, 6, 4, 5, 6, 5, 5, 5, 6]\n",
            "Iteration 2: Best Fitness = 879204578.3164003, Best Individual = [9, 5, 9, 9, 5, 9, 10, 10, 9, 10]\n",
            "Iteration 3: Best Fitness = 893713618.9126003, Best Individual = [6, 9, 9, 9, 6, 6, 10, 6, 9, 10]\n",
            "Iteration 4: Best Fitness = 831705540.7622404, Best Individual = [1, 9, 9, 4, 9, 9, 4, 4, 9, 4]\n",
            "Iteration 5: Best Fitness = 822895549.5699201, Best Individual = [9, 2, 9, 9, 9, 9, 7, 9, 9, 7]\n",
            "Iteration 6: Best Fitness = 804849062.3242396, Best Individual = [4, 4, 4, 4, 5, 4, 7, 7, 4, 7]\n",
            "Iteration 7: Best Fitness = 889517067.5537201, Best Individual = [6, 9, 9, 6, 6, 6, 7, 6, 9, 7]\n",
            "Iteration 8: Best Fitness = 913851077.8401599, Best Individual = [5, 5, 5, 4, 5, 4, 7, 5, 5, 5]\n",
            "Iteration 9: Best Fitness = 925366844.7905197, Best Individual = [5, 9, 4, 4, 5, 9, 4, 9, 9, 5]\n",
            "Iteration 10: Best Fitness = 785196989.4873604, Best Individual = [6, 4, 6, 4, 6, 6, 7, 4, 6, 7]\n",
            "Iteration 11: Best Fitness = 886582769.2954803, Best Individual = [5, 5, 5, 4, 5, 9, 5, 5, 9, 5]\n",
            "Iteration 12: Best Fitness = 857198995.9285201, Best Individual = [7, 4, 6, 4, 6, 6, 7, 4, 4, 7]\n",
            "Iteration 13: Best Fitness = 905248008.3277603, Best Individual = [5, 9, 9, 4, 5, 9, 9, 9, 9, 4]\n",
            "Iteration 14: Best Fitness = 924380663.1360402, Best Individual = [5, 5, 9, 4, 5, 4, 9, 4, 9, 5]\n",
            "Iteration 15: Best Fitness = 907881165.7778003, Best Individual = [4, 6, 6, 4, 9, 6, 6, 4, 9, 4]\n",
            "Iteration 16: Best Fitness = 885572654.5693599, Best Individual = [5, 4, 9, 4, 5, 9, 4, 4, 9, 9]\n",
            "Iteration 17: Best Fitness = 918986605.10068, Best Individual = [5, 4, 4, 4, 5, 5, 5, 4, 9, 5]\n",
            "Iteration 18: Best Fitness = 935091862.08128, Best Individual = [5, 4, 5, 4, 5, 6, 5, 5, 4, 5]\n",
            "Iteration 19: Best Fitness = 950182460.6021998, Best Individual = [1, 9, 4, 4, 9, 9, 4, 9, 9, 1]\n",
            "Iteration 20: Best Fitness = 808247235.0672402, Best Individual = [6, 6, 6, 9, 9, 6, 7, 7, 9, 7]\n",
            "Iteration 21: Best Fitness = 849544735.9105201, Best Individual = [7, 4, 9, 4, 4, 4, 7, 4, 9, 7]\n",
            "Iteration 22: Best Fitness = 890561746.0110401, Best Individual = [4, 9, 4, 4, 9, 4, 10, 10, 9, 10]\n",
            "Iteration 23: Best Fitness = 927859473.6422, Best Individual = [1, 5, 5, 4, 5, 5, 5, 5, 5, 1]\n",
            "Iteration 24: Best Fitness = 862295474.5874798, Best Individual = [9, 6, 9, 9, 6, 6, 10, 9, 9, 10]\n",
            "Iteration 25: Best Fitness = 807977008.0415602, Best Individual = [9, 9, 4, 4, 4, 9, 7, 7, 9, 7]\n",
            "Iteration 26: Best Fitness = 857598506.4202001, Best Individual = [9, 5, 9, 5, 5, 9, 7, 7, 9, 7]\n",
            "Iteration 27: Best Fitness = 804987804.5610001, Best Individual = [9, 9, 6, 9, 9, 6, 7, 7, 9, 7]\n",
            "Iteration 28: Best Fitness = 908423924.13828, Best Individual = [9, 9, 9, 4, 4, 6, 4, 4, 9, 6]\n",
            "Iteration 29: Best Fitness = 892422488.7770401, Best Individual = [9, 6, 9, 4, 4, 6, 4, 9, 9, 4]\n",
            "Iteration 30: Best Fitness = 969304370.3454803, Best Individual = [1, 1, 3, 4, 4, 4, 1, 4, 4, 4]\n",
            "Iteration 31: Best Fitness = 827255523.9697602, Best Individual = [1, 1, 9, 9, 9, 9, 7, 7, 9, 7]\n",
            "Iteration 32: Best Fitness = 836992940.8942, Best Individual = [7, 9, 9, 4, 4, 4, 7, 7, 9, 7]\n",
            "Iteration 33: Best Fitness = 924170147.3349597, Best Individual = [5, 5, 4, 4, 5, 5, 4, 8, 5, 5]\n",
            "Iteration 34: Best Fitness = 874682845.2485602, Best Individual = [7, 6, 4, 4, 6, 6, 7, 4, 4, 7]\n",
            "Iteration 35: Best Fitness = 892768876.6398401, Best Individual = [4, 7, 9, 4, 9, 9, 7, 7, 9, 7]\n",
            "Iteration 36: Best Fitness = 840125099.4783201, Best Individual = [1, 4, 4, 4, 1, 4, 7, 7, 4, 7]\n",
            "Iteration 37: Best Fitness = 933824299.47264, Best Individual = [4, 2, 5, 4, 5, 5, 4, 4, 5, 4]\n",
            "Iteration 38: Best Fitness = 911752289.8666003, Best Individual = [6, 7, 6, 4, 6, 6, 7, 4, 6, 7]\n",
            "Iteration 39: Best Fitness = 900527437.1524001, Best Individual = [1, 4, 3, 4, 4, 4, 4, 4, 4, 4]\n",
            "Iteration 40: Best Fitness = 981635006.6962798, Best Individual = [7, 9, 5, 9, 5, 5, 7, 5, 9, 7]\n",
            "Iteration 41: Best Fitness = 880696008.6636006, Best Individual = [9, 9, 4, 4, 4, 9, 10, 9, 9, 10]\n",
            "Iteration 42: Best Fitness = 955321283.6355202, Best Individual = [1, 9, 4, 4, 9, 9, 4, 9, 9, 9]\n",
            "Iteration 43: Best Fitness = 893557978.5548799, Best Individual = [7, 2, 2, 9, 9, 9, 7, 9, 9, 7]\n",
            "Iteration 44: Best Fitness = 899270993.7406003, Best Individual = [6, 6, 6, 4, 5, 6, 4, 4, 4, 6]\n",
            "Iteration 45: Best Fitness = 945974179.7155598, Best Individual = [1, 1, 4, 4, 4, 1, 10, 4, 4, 10]\n",
            "Iteration 46: Best Fitness = 973879678.3355601, Best Individual = [4, 2, 2, 4, 10, 4, 10, 10, 4, 10]\n",
            "Iteration 47: Best Fitness = 924858066.1632003, Best Individual = [1, 1, 6, 4, 1, 6, 1, 4, 6, 1]\n",
            "Iteration 48: Best Fitness = 1023564574.6324797, Best Individual = [1, 4, 4, 4, 1, 7, 7, 7, 4, 7]\n",
            "Iteration 49: Best Fitness = 925401825.3163997, Best Individual = [1, 1, 5, 5, 5, 5, 10, 1, 5, 10]\n",
            "[849592073.2330399, 932992793.9081203, 879204578.3164003, 893713618.9126003, 831705540.7622404, 822895549.5699201, 804849062.3242396, 889517067.5537201, 913851077.8401599, 925366844.7905197, 785196989.4873604, 886582769.2954803, 857198995.9285201, 905248008.3277603, 924380663.1360402, 907881165.7778003, 885572654.5693599, 918986605.10068, 935091862.08128, 950182460.6021998, 808247235.0672402, 849544735.9105201, 890561746.0110401, 927859473.6422, 862295474.5874798, 807977008.0415602, 857598506.4202001, 804987804.5610001, 908423924.13828, 892422488.7770401, 969304370.3454803, 827255523.9697602, 836992940.8942, 924170147.3349597, 874682845.2485602, 892768876.6398401, 840125099.4783201, 933824299.47264, 911752289.8666003, 900527437.1524001, 981635006.6962798, 880696008.6636006, 955321283.6355202, 893557978.5548799, 899270993.7406003, 945974179.7155598, 973879678.3355601, 924858066.1632003, 1023564574.6324797, 925401825.3163997]\n",
            "[[4, 9, 3, 4, 4, 9, 4, 4, 9, 4], [5, 6, 6, 4, 5, 6, 5, 5, 5, 6], [9, 5, 9, 9, 5, 9, 10, 10, 9, 10], [6, 9, 9, 9, 6, 6, 10, 6, 9, 10], [1, 9, 9, 4, 9, 9, 4, 4, 9, 4], [9, 2, 9, 9, 9, 9, 7, 9, 9, 7], [4, 4, 4, 4, 5, 4, 7, 7, 4, 7], [6, 9, 9, 6, 6, 6, 7, 6, 9, 7], [5, 5, 5, 4, 5, 4, 7, 5, 5, 5], [5, 9, 4, 4, 5, 9, 4, 9, 9, 5], [6, 4, 6, 4, 6, 6, 7, 4, 6, 7], [5, 5, 5, 4, 5, 9, 5, 5, 9, 5], [7, 4, 6, 4, 6, 6, 7, 4, 4, 7], [5, 9, 9, 4, 5, 9, 9, 9, 9, 4], [5, 5, 9, 4, 5, 4, 9, 4, 9, 5], [4, 6, 6, 4, 9, 6, 6, 4, 9, 4], [5, 4, 9, 4, 5, 9, 4, 4, 9, 9], [5, 4, 4, 4, 5, 5, 5, 4, 9, 5], [5, 4, 5, 4, 5, 6, 5, 5, 4, 5], [1, 9, 4, 4, 9, 9, 4, 9, 9, 1], [6, 6, 6, 9, 9, 6, 7, 7, 9, 7], [7, 4, 9, 4, 4, 4, 7, 4, 9, 7], [4, 9, 4, 4, 9, 4, 10, 10, 9, 10], [1, 5, 5, 4, 5, 5, 5, 5, 5, 1], [9, 6, 9, 9, 6, 6, 10, 9, 9, 10], [9, 9, 4, 4, 4, 9, 7, 7, 9, 7], [9, 5, 9, 5, 5, 9, 7, 7, 9, 7], [9, 9, 6, 9, 9, 6, 7, 7, 9, 7], [9, 9, 9, 4, 4, 6, 4, 4, 9, 6], [9, 6, 9, 4, 4, 6, 4, 9, 9, 4], [1, 1, 3, 4, 4, 4, 1, 4, 4, 4], [1, 1, 9, 9, 9, 9, 7, 7, 9, 7], [7, 9, 9, 4, 4, 4, 7, 7, 9, 7], [5, 5, 4, 4, 5, 5, 4, 8, 5, 5], [7, 6, 4, 4, 6, 6, 7, 4, 4, 7], [4, 7, 9, 4, 9, 9, 7, 7, 9, 7], [1, 4, 4, 4, 1, 4, 7, 7, 4, 7], [4, 2, 5, 4, 5, 5, 4, 4, 5, 4], [6, 7, 6, 4, 6, 6, 7, 4, 6, 7], [1, 4, 3, 4, 4, 4, 4, 4, 4, 4], [7, 9, 5, 9, 5, 5, 7, 5, 9, 7], [9, 9, 4, 4, 4, 9, 10, 9, 9, 10], [1, 9, 4, 4, 9, 9, 4, 9, 9, 9], [7, 2, 2, 9, 9, 9, 7, 9, 9, 7], [6, 6, 6, 4, 5, 6, 4, 4, 4, 6], [1, 1, 4, 4, 4, 1, 10, 4, 4, 10], [4, 2, 2, 4, 10, 4, 10, 10, 4, 10], [1, 1, 6, 4, 1, 6, 1, 4, 6, 1], [1, 4, 4, 4, 1, 7, 7, 7, 4, 7], [1, 1, 5, 5, 5, 5, 10, 1, 5, 10]]\n"
          ]
        }
      ]
    },
    {
      "cell_type": "code",
      "source": [
        "## Experiment with Mutation Rates\n",
        "\n",
        "best_fitnesses_mrs = []\n",
        "best_candidates_mrs = []\n",
        "mrs = np.arange(0.1,1,0.1)\n",
        "\n",
        "for mr in mrs:\n",
        "\n",
        "  best_fs, best_cs = model_1(n=10,p=3,time_steps=50,pop_size=100,mr=mr)\n",
        "  best_fitnesses_mrs.append(min(best_fs))\n",
        "  best_candidates_mrs.append(best_cs[np.argmin(best_fs)])\n",
        "\n",
        "  print(\"Mutation Rate {}: Best Fitness = {}, Best Individual = {}\".format(mr, best_fitnesses_mrs[-1], best_candidates_mrs[-1]))\n"
      ],
      "metadata": {
        "colab": {
          "base_uri": "https://localhost:8080/"
        },
        "collapsed": true,
        "id": "ArJOcoEFepum",
        "outputId": "14dfb127-7125-4ff7-f451-4fd586d4adb3"
      },
      "execution_count": null,
      "outputs": [
        {
          "output_type": "stream",
          "name": "stdout",
          "text": [
            "Mutation Rate 0.1: Best Fitness = 811515219.33444, Best Individual = [5, 2, 5, 5, 5, 5, 7, 7, 5, 7]\n",
            "Mutation Rate 0.2: Best Fitness = 794343990.8103199, Best Individual = [9, 9, 9, 4, 9, 4, 7, 7, 9, 7]\n",
            "Mutation Rate 0.30000000000000004: Best Fitness = 795408594.3057201, Best Individual = [9, 2, 9, 9, 9, 9, 7, 7, 9, 7]\n",
            "Mutation Rate 0.4: Best Fitness = 823532721.3383602, Best Individual = [5, 9, 9, 4, 5, 9, 4, 4, 9, 4]\n",
            "Mutation Rate 0.5: Best Fitness = 746458661.9294802, Best Individual = [4, 6, 6, 4, 6, 6, 7, 4, 6, 7]\n",
            "Mutation Rate 0.6: Best Fitness = 782944749.53096, Best Individual = [6, 6, 6, 4, 6, 6, 10, 4, 6, 10]\n",
            "Mutation Rate 0.7000000000000001: Best Fitness = 769427677.5677601, Best Individual = [1, 9, 9, 9, 9, 9, 7, 7, 9, 7]\n",
            "Mutation Rate 0.8: Best Fitness = 826884782.11516, Best Individual = [9, 9, 6, 9, 9, 6, 7, 9, 9, 7]\n",
            "Mutation Rate 0.9: Best Fitness = 745421728.6328803, Best Individual = [4, 6, 6, 4, 4, 6, 7, 4, 6, 7]\n"
          ]
        }
      ]
    },
    {
      "cell_type": "code",
      "source": [
        "min_fs = min(best_fitnesses_mrs)\n",
        "min_fs_mr = mrs[np.argmin(best_fitnesses_mrs)]\n",
        "\n",
        "plt.plot(mrs, best_fitnesses_mrs)\n",
        "plt.scatter(min_fs_mr, min_fs, color = 'r')\n",
        "plt.ticklabel_format(style='plain')\n",
        "plt.xlabel('Mutation Rates')\n",
        "plt.ylabel('Best Fitness Values')\n",
        "plt.title('Mutation Rates vs Best Fitness')"
      ],
      "metadata": {
        "colab": {
          "base_uri": "https://localhost:8080/",
          "height": 312
        },
        "collapsed": true,
        "id": "9ChPDUOyQC2K",
        "outputId": "648f73cc-b437-4832-debd-2627336895df"
      },
      "execution_count": null,
      "outputs": [
        {
          "output_type": "execute_result",
          "data": {
            "text/plain": [
              "Text(0.5, 1.0, 'Mutation Rates vs Best Fitness')"
            ]
          },
          "metadata": {},
          "execution_count": 58
        },
        {
          "output_type": "display_data",
          "data": {
            "text/plain": [
              "<Figure size 432x288 with 1 Axes>"
            ],
            "image/png": "[encoded data removed]"
          },
          "metadata": {
            "needs_background": "light"
          }
        }
      ]
    },
    {
      "cell_type": "code",
      "source": [
        "## Experiment with Time Steps\n",
        "\n",
        "best_fitnesses_ts = []\n",
        "best_candidates_ts = []\n",
        "ts = np.arange(50,350,50)\n",
        "\n",
        "for t in ts:\n",
        "\n",
        "  best_fs, best_cs = model_1(n=10,p=3,time_steps=t,pop_size=100,mr=0.4)\n",
        "  best_fitnesses_ts.append(min(best_fs))\n",
        "  best_candidates_ts.append(best_cs[np.argmin(best_fs)])\n",
        "\n",
        "  print(\"Time Steps {}: Best Fitness = {}, Best Individual = {}\".format(t, best_fitnesses_ts[-1], best_candidates_ts[-1]))\n"
      ],
      "metadata": {
        "colab": {
          "base_uri": "https://localhost:8080/"
        },
        "collapsed": true,
        "id": "zXywHwTAfpq6",
        "outputId": "3be08675-a07e-492f-eb27-26e347e5c59f"
      },
      "execution_count": null,
      "outputs": [
        {
          "output_type": "stream",
          "name": "stdout",
          "text": [
            "Time Steps 50: Best Fitness = 752124310.7995203, Best Individual = [6, 6, 6, 4, 6, 6, 7, 7, 6, 7]\n",
            "Time Steps 100: Best Fitness = 740999438.9360801, Best Individual = [4, 9, 9, 4, 4, 9, 7, 4, 9, 7]\n",
            "Time Steps 150: Best Fitness = 745421728.6328803, Best Individual = [4, 6, 6, 4, 4, 6, 7, 4, 6, 7]\n",
            "Time Steps 200: Best Fitness = 752140732.5358402, Best Individual = [9, 9, 9, 4, 4, 9, 7, 4, 9, 7]\n",
            "Time Steps 250: Best Fitness = 787108408.1376, Best Individual = [6, 6, 6, 4, 4, 6, 10, 4, 6, 10]\n",
            "Time Steps 300: Best Fitness = 781833801.0026001, Best Individual = [5, 9, 9, 9, 5, 9, 7, 7, 9, 7]\n"
          ]
        }
      ]
    },
    {
      "cell_type": "code",
      "source": [
        "min_fs = min(best_fitnesses_ts)\n",
        "min_fs_ts = ts[np.argmin(best_fitnesses_ts)]\n",
        "\n",
        "plt.plot(ts, best_fitnesses_ts)\n",
        "plt.scatter(min_fs_ts, min_fs, color = 'r')\n",
        "plt.ticklabel_format(style='plain')\n",
        "plt.xlabel('Time Steps')\n",
        "plt.ylabel('Best Fitness Values')\n",
        "plt.title('Time Steps vs Best Fitness')"
      ],
      "metadata": {
        "colab": {
          "base_uri": "https://localhost:8080/",
          "height": 312
        },
        "collapsed": true,
        "id": "xmnhHK_EoIwZ",
        "outputId": "183367b8-c0c8-4b49-9b52-acec3e0ce50e"
      },
      "execution_count": null,
      "outputs": [
        {
          "output_type": "execute_result",
          "data": {
            "text/plain": [
              "Text(0.5, 1.0, 'Time Steps vs Best Fitness')"
            ]
          },
          "metadata": {},
          "execution_count": 69
        },
        {
          "output_type": "display_data",
          "data": {
            "text/plain": [
              "<Figure size 432x288 with 1 Axes>"
            ],
            "image/png": "[encoded data removed]"
          },
          "metadata": {
            "needs_background": "light"
          }
        }
      ]
    },
    {
      "cell_type": "code",
      "source": [
        "## Experiment with Population Size\n",
        "\n",
        "best_fitnesses_pop = []\n",
        "best_candidates_pop = []\n",
        "pops = np.arange(50,350,50)\n",
        "\n",
        "for pop in pops:\n",
        "\n",
        "  best_fs, best_cs = model_1(n=10,p=3,time_steps=100,pop_size=pop,mr=0.4)\n",
        "  best_fitnesses_pop.append(min(best_fs))\n",
        "  best_candidates_pop.append(best_cs[np.argmin(best_fs)])\n",
        "\n",
        "  print(\"Population Size {}: Best Fitness = {}, Best Individual = {}\".format(pop, best_fitnesses_pop[-1], best_candidates_pop[-1]))"
      ],
      "metadata": {
        "colab": {
          "base_uri": "https://localhost:8080/"
        },
        "collapsed": true,
        "id": "xrPbeZKvqP0d",
        "outputId": "69f4118f-d985-4688-8a60-e55a9d44bf64"
      },
      "execution_count": null,
      "outputs": [
        {
          "output_type": "stream",
          "name": "stdout",
          "text": [
            "Population Size 50: Best Fitness = 810984105.25348, Best Individual = [5, 5, 9, 5, 5, 9, 7, 7, 9, 7]\n",
            "Population Size 100: Best Fitness = 752734626.1894001, Best Individual = [4, 9, 9, 4, 9, 9, 7, 7, 9, 7]\n",
            "Population Size 150: Best Fitness = 740999438.9360801, Best Individual = [4, 9, 9, 4, 4, 9, 7, 4, 9, 7]\n",
            "Population Size 200: Best Fitness = 759939716.3029205, Best Individual = [4, 4, 9, 4, 4, 9, 7, 4, 9, 7]\n",
            "Population Size 250: Best Fitness = 756453537.6539602, Best Individual = [6, 6, 6, 4, 4, 6, 7, 7, 6, 7]\n",
            "Population Size 300: Best Fitness = 755518888.8010001, Best Individual = [4, 6, 6, 4, 6, 6, 7, 7, 6, 7]\n"
          ]
        }
      ]
    },
    {
      "cell_type": "code",
      "source": [
        "min_fs = min(best_fitnesses_pop)\n",
        "min_fs_pop = ts[np.argmin(best_fitnesses_pop)]\n",
        "\n",
        "plt.plot(pops, best_fitnesses_pop)\n",
        "plt.scatter(min_fs_pop, min_fs, color = 'r')\n",
        "plt.ticklabel_format(style='plain')\n",
        "plt.xlabel('Population Size')\n",
        "plt.ylabel('Best Fitness Values')\n",
        "plt.title('Population Size vs Best Fitness')"
      ],
      "metadata": {
        "colab": {
          "base_uri": "https://localhost:8080/",
          "height": 312
        },
        "collapsed": true,
        "id": "dM1DuKiau9Mt",
        "outputId": "8d5aa938-ef59-43f4-b4c5-6b1f1ae23bec"
      },
      "execution_count": null,
      "outputs": [
        {
          "output_type": "execute_result",
          "data": {
            "text/plain": [
              "Text(0.5, 1.0, 'Population Size vs Best Fitness')"
            ]
          },
          "metadata": {},
          "execution_count": 71
        },
        {
          "output_type": "display_data",
          "data": {
            "text/plain": [
              "<Figure size 432x288 with 1 Axes>"
            ],
            "image/png": "[encoded data removed]"
          },
          "metadata": {
            "needs_background": "light"
          }
        }
      ]
    },
    {
      "cell_type": "code",
      "source": [
        "## Model 1 FINAL RUN\n",
        "## change problem dataset\n",
        "\n",
        "best_fitnesses_m1 = []\n",
        "best_candidates_m1 = []\n",
        "time_m1 = []\n",
        "\n",
        "for i in range(10):\n",
        "\n",
        "  start = time.time()\n",
        "  best_fs, best_cs = model_1(n=100,p=10,time_steps=50,pop_size=150,mr=0.4)\n",
        "  end = time.time()\n",
        "\n",
        "\n",
        "  best_fitnesses_m1.append(min(best_fs))\n",
        "  best_candidates_m1.append(best_cs[np.argmin(best_fs)])\n",
        "  time_m1.append(end-start)\n",
        "\n",
        "  print(\"Iteration {}: Best Fitness = {}, Best Individual = {}, Time = {}\".format(i+1, best_fitnesses_m1[-1], best_candidates_m1[-1], time_m1[-1]))"
      ],
      "metadata": {
        "id": "kiwS6QP-vcXw"
      },
      "execution_count": null,
      "outputs": []
    },
    {
      "cell_type": "code",
      "source": [
        "min_fs = min(best_fitnesses_m1)\n",
        "runs = np.arange(1,11)\n",
        "min_run = runs[np.argmin(best_fitnesses_m1)]\n",
        "avg_fs = np.mean(best_fitnesses_m1)\n",
        "best_cs = best_candidates_m1[np.argmin(best_fitnesses_m1)]\n",
        "avg_time = np.mean(time_m1)\n",
        "\n",
        "print('Best Solution: {}'.format(str(best_cs)))\n",
        "print('Best NC: {}'.format(min_fs))\n",
        "print('Avg NC: {}'.format(avg_fs))\n",
        "print('Avg Time: {}'.format(avg_time))\n",
        "\n",
        "plt.plot(runs, best_fitnesses_m1)\n",
        "plt.scatter(min_run, min_fs, color = 'r', label = 'Best Fitness')\n",
        "plt.axhline(y=avg_fs, color='y', linestyle='--', label = 'Avg Fitness')\n",
        "plt.ticklabel_format(style='plain')\n",
        "plt.xticks(runs)\n",
        "plt.legend()\n",
        "plt.xlabel('Runs')\n",
        "plt.ylabel('Best Fitness Values')\n",
        "plt.title('Best Fitness in Each Run')"
      ],
      "metadata": {
        "colab": {
          "base_uri": "https://localhost:8080/",
          "height": 159
        },
        "id": "MEa1sDwd_8iI",
        "outputId": "fbf9a80c-6046-41ea-a184-bcc043bb70dd"
      },
      "execution_count": 32,
      "outputs": [
        {
          "output_type": "stream",
          "name": "stdout",
          "text": [
            "Best Solution: [71, 42, 3, 60, 71, 60, 3, 3, 3, 64, 19, 3, 60, 41, 3, 19, 41, 41, 19, 3, 41, 71, 71, 42, 64, 41, 41, 64, 64, 3, 42, 64, 42, 41, 3, 60, 71, 41, 41, 71, 41, 42, 60, 71, 64, 41, 3, 3, 42, 60, 41, 60, 64, 64, 42, 60, 3, 60, 42, 60, 3, 64, 3, 64, 71, 71, 3, 71, 19, 71, 71, 60, 3, 3, 64, 64, 64, 3, 41, 64, 64]\n",
            "Best NC: 74259014548.93364\n",
            "Avg NC: 75587104933.5132\n",
            "Avg Time: 2169.327643712362\n"
          ]
        },
        {
          "output_type": "execute_result",
          "data": {
            "text/plain": [
              "\"plt.plot(runs, best_fitnesses_m1)\\nplt.scatter(min_run, min_fs, color = 'r', label = 'Best Fitness')\\nplt.axhline(y=avg_fs, color='y', linestyle='--', label = 'Avg Fitness')\\nplt.ticklabel_format(style='plain')\\nplt.xticks(runs)\\nplt.legend()\\nplt.xlabel('Runs')\\nplt.ylabel('Best Fitness Values')\\nplt.title('Best Fitness in Each Run')\""
            ],
            "application/vnd.google.colaboratory.intrinsic+json": {
              "type": "string"
            }
          },
          "metadata": {},
          "execution_count": 32
        }
      ]
    }
  ]
}